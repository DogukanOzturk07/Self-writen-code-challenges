{
 "cells": [
  {
   "cell_type": "code",
   "execution_count": 14,
   "id": "2eb9dff9-1b7a-4bbf-8ff7-071278369198",
   "metadata": {},
   "outputs": [
    {
     "name": "stdin",
     "output_type": "stream",
     "text": [
      "Enter new student IDs (space separated):  55555\n"
     ]
    },
    {
     "name": "stdout",
     "output_type": "stream",
     "text": [
      "Invalid ID(s): ['55555'] (cannot start with 0 or negative.)\n"
     ]
    },
    {
     "name": "stdin",
     "output_type": "stream",
     "text": [
      "Enter new student IDs (space separated):  2020\n"
     ]
    },
    {
     "name": "stdout",
     "output_type": "stream",
     "text": [
      "New IDs= [2020]\n",
      "[2020, 1001, 1002, 1003, 1004, 1005, 1006, 1007, 1008, 1009, 1010, 1011, 1012, 1013, 1014, 1015, 1016, 1017, 1018, 1019, 1020]\n",
      "The IDs are unique and IDs are saved.\n",
      "The new list: [2020, 1001, 1002, 1003, 1004, 1005, 1006, 1007, 1008, 1009, 1010, 1011, 1012, 1013, 1014, 1015, 1016, 1017, 1018, 1019, 1020]\n"
     ]
    }
   ],
   "source": [
    "# Problem: Exam Submissions — Duplicate Entry Check\n",
    "# \n",
    "# Description:\n",
    "# In a university exam, each student must submit their answers only once,\n",
    "# identified by a unique positive integer student ID.\n",
    "# You are given an array of submission IDs.\n",
    "# Return True if any student ID appears more than once, otherwise return False.\n",
    "#\n",
    "# Input:\n",
    "# int[] submissions\n",
    "#\n",
    "# Output:\n",
    "# boolean — whether there is any duplicate student ID.\n",
    "#\n",
    "# Examples:\n",
    "# Input: [1021, 45, 1021, 9] → Output: True\n",
    "# Input: [7, 11, 19] → Output: False\n",
    "#\n",
    "# Notes (possible approaches):\n",
    "# - Brute force: Compare every pair of IDs (O(n^2))\n",
    "# - Better: Sort the array and check neighboring elements (O(n log n))\n",
    "# - Best (average): Use a hash set to track seen IDs (O(n) average)\n",
    "#\n",
    "# Additional validation rules implemented in this solution:\n",
    "# - IDs must be positive\n",
    "# - IDs must be exactly 4 digits long\n",
    "# - IDs cannot start with 0\n",
    "# - No duplicate IDs allowed in the same input\n",
    "\n",
    "registered_students = [\n",
    "    1001, 1002, 1003, 1004, 1005,\n",
    "    1006, 1007, 1008, 1009, 1010,\n",
    "    1011, 1012, 1013, 1014, 1015,\n",
    "    1016, 1017, 1018, 1019, 1020\n",
    "]\n",
    "\n",
    "def has_duplicate_quick(nums):\n",
    "    seen = set()\n",
    "    for x in nums:\n",
    "        if x in seen:\n",
    "            return True   \n",
    "        seen.add(x)\n",
    "    return False         \n",
    "\n",
    "\n",
    "def has_duplicate_bruteforce(submissions):\n",
    "    n = len(submissions)\n",
    "    for i in range(n - 1):\n",
    "        for j in range(i + 1, n):\n",
    "            if submissions[i] == submissions[j]:\n",
    "                return True\n",
    "    return False\n",
    "    \n",
    "def read_ids():\n",
    "    while True:\n",
    "        s = input(\"Enter new student IDs (space separated): \")\n",
    "        parts = s.strip().split()\n",
    "        invalid_ids = [p for p in parts if p.startswith(\"0\") or p.startswith(\"-\") or len(p) != 4]\n",
    "        if invalid_ids:\n",
    "            print(f\"Invalid ID(s): {invalid_ids} (cannot start with 0 or negative and different than 4 digits.)\")\n",
    "            continue\n",
    "\n",
    "        try:\n",
    "            ids = [int(p) for p in parts]\n",
    "        except ValueError:\n",
    "            print(\"Only integers allowed. Please try again.\")\n",
    "            continue\n",
    "\n",
    "        if has_duplicate_quick(ids):\n",
    "            print(\"Please do not input duplicated numbers. Try again.\")\n",
    "            continue\n",
    "\n",
    "        # Hepsi temizse döndür\n",
    "        return ids\n",
    "\n",
    "        \n",
    "ids= read_ids()\n",
    "print(\"New IDs=\", ids)\n",
    "\n",
    "combined=ids+registered_students\n",
    "print(combined)\n",
    "\n",
    "if has_duplicate_bruteforce(combined):\n",
    "    print(\"Dublicated founded, some IDs are already registerd.\")\n",
    "else:\n",
    "    print(\"The IDs are unique and IDs are saved.\")\n",
    "    registered_students=combined\n",
    "print(\"The new list:\", combined)\n",
    "\n",
    "\n",
    "    \n"
   ]
  },
  {
   "cell_type": "code",
   "execution_count": null,
   "id": "23a432dd-738b-4cfb-b750-83ec47ea3778",
   "metadata": {},
   "outputs": [],
   "source": []
  }
 ],
 "metadata": {
  "kernelspec": {
   "display_name": "Python 3 (ipykernel)",
   "language": "python",
   "name": "python3"
  },
  "language_info": {
   "codemirror_mode": {
    "name": "ipython",
    "version": 3
   },
   "file_extension": ".py",
   "mimetype": "text/x-python",
   "name": "python",
   "nbconvert_exporter": "python",
   "pygments_lexer": "ipython3",
   "version": "3.12.7"
  }
 },
 "nbformat": 4,
 "nbformat_minor": 5
}
